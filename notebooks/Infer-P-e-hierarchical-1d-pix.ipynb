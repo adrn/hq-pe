{
 "cells": [
  {
   "cell_type": "code",
   "execution_count": null,
   "metadata": {},
   "outputs": [],
   "source": [
    "from os import path\n",
    "import os\n",
    "\n",
    "import astropy.coordinates as coord\n",
    "from astropy.constants import G\n",
    "from astropy.io import fits\n",
    "from astropy.table import Table, QTable, join\n",
    "import astropy.units as u\n",
    "import matplotlib as mpl\n",
    "import matplotlib.pyplot as plt\n",
    "%matplotlib inline\n",
    "import numpy as np\n",
    "from tqdm import tqdm\n",
    "import emcee\n",
    "import yaml\n",
    "\n",
    "from hq.config import HQ_CACHE_PATH, config_to_alldata\n",
    "from hq.plot import plot_two_panel, plot_phase_fold\n",
    "from hq.data import get_rvdata\n",
    "from hq.physics_helpers import period_at_surface, stellar_radius\n",
    "from hq.hierarchical.period_ecc import Model\n",
    "\n",
    "from thejoker.plot import plot_rv_curves\n",
    "from thejoker import JokerSamples, JokerParams, TheJoker\n",
    "\n",
    "from scipy.special import logsumexp\n",
    "from scipy.stats import beta, truncnorm\n",
    "from scipy.optimize import minimize"
   ]
  },
  {
   "cell_type": "code",
   "execution_count": null,
   "metadata": {},
   "outputs": [],
   "source": [
    "samples_path = path.join(HQ_CACHE_PATH, 'dr16/samples')\n",
    "metadata = QTable.read(path.join(HQ_CACHE_PATH, 'dr16/metadata-master.fits'))\n",
    "\n",
    "with open(path.join(HQ_CACHE_PATH, \"dr16/config.yml\"), \"r\") as f:\n",
    "    config = yaml.safe_load(f.read())\n",
    "allstar, allvisit = config_to_alldata(config)"
   ]
  },
  {
   "cell_type": "code",
   "execution_count": null,
   "metadata": {},
   "outputs": [],
   "source": [
    "metadata = join(metadata, allstar, keys='APOGEE_ID')"
   ]
  },
  {
   "cell_type": "code",
   "execution_count": null,
   "metadata": {},
   "outputs": [],
   "source": [
    "llr_mask = (metadata['max_unmarginalized_ln_likelihood'] - metadata['robust_constant_ln_likelihood']) > 6\n",
    "# qual_mask = (metadata['unimodal'] | \n",
    "#              (metadata['joker_completed'] & (metadata['n_visits'] >= 4)))\n",
    "qual_mask = (metadata['unimodal'] | (metadata['n_visits'] >= 4))\n",
    "qual_mask &= (metadata['LOGG'] > -0.5) & (metadata['TEFF'] > 3200)"
   ]
  },
  {
   "cell_type": "code",
   "execution_count": null,
   "metadata": {},
   "outputs": [],
   "source": [
    "llr_mask.sum(), (llr_mask & qual_mask).sum()"
   ]
  },
  {
   "cell_type": "code",
   "execution_count": null,
   "metadata": {},
   "outputs": [],
   "source": [
    "def logg_f(teff):\n",
    "    slope = -0.1 / 200\n",
    "    pt = (5500, 4.)\n",
    "    \n",
    "    teff = np.array(teff)\n",
    "    teff_crit = 5200\n",
    "    val1 = slope * (teff - pt[0]) + pt[1]\n",
    "    val2 = slope * (teff_crit - pt[0]) + pt[1]\n",
    "    \n",
    "    mask = teff > teff_crit\n",
    "    ret = np.zeros_like(teff)\n",
    "    ret[mask] = val1[mask]\n",
    "    ret[~mask] = val2\n",
    "    return ret\n",
    "\n",
    "def rg_f(teff):\n",
    "    slope = 0.25 / 100\n",
    "    pt = (4800, 4.)\n",
    "    return slope * (teff - pt[0]) + pt[1]"
   ]
  },
  {
   "cell_type": "code",
   "execution_count": null,
   "metadata": {},
   "outputs": [],
   "source": [
    "fig, ax = plt.subplots(1, 1, figsize=(7, 6))\n",
    "\n",
    "ax.plot(metadata['TEFF'][llr_mask & qual_mask],\n",
    "        metadata['LOGG'][llr_mask & qual_mask],\n",
    "        marker='o', ls='none', ms=1.5, mew=0, \n",
    "        color='k', alpha=0.2)\n",
    "\n",
    "ax.set_xlim(7000, 3500)\n",
    "ax.set_ylim(5.5, 0)\n",
    "\n",
    "_x = np.linspace(3500, 7000, 1024)\n",
    "ax.plot(_x, logg_f(_x), marker='')\n",
    "ax.plot(_x, rg_f(_x), marker='')\n",
    "\n",
    "ax.set_xlabel(r'$T_{\\rm eff}$ [K]')\n",
    "ax.set_ylabel(r'$\\log g$')\n",
    "\n",
    "fig.set_facecolor('w')"
   ]
  },
  {
   "cell_type": "code",
   "execution_count": null,
   "metadata": {},
   "outputs": [],
   "source": [
    "ms_mask = metadata['LOGG'] > logg_f(metadata['TEFF'])\n",
    "rg_mask = ~ms_mask & (metadata['LOGG'] < rg_f(metadata['TEFF'])) & (metadata['TEFF'] < 5500)\n",
    "\n",
    "ms_mask &= llr_mask & qual_mask\n",
    "rg_mask &= llr_mask & qual_mask\n",
    "\n",
    "ms_mask.sum(), rg_mask.sum()"
   ]
  },
  {
   "cell_type": "code",
   "execution_count": null,
   "metadata": {},
   "outputs": [],
   "source": [
    "fig, ax = plt.subplots(1, 1, figsize=(7, 6))\n",
    "\n",
    "for _mask in [ms_mask, rg_mask]:\n",
    "    ax.plot(metadata['TEFF'][_mask],\n",
    "            metadata['LOGG'][_mask],\n",
    "            marker='o', ls='none', ms=1.5, mew=0, \n",
    "            alpha=0.2)\n",
    "\n",
    "ax.set_xlim(7000, 3200)\n",
    "ax.set_ylim(5.5, -0.5)\n",
    "\n",
    "ax.set_xlabel(r'$T_{\\rm eff}$ [K]')\n",
    "ax.set_ylabel(r'$\\log g$')\n",
    "\n",
    "fig.set_facecolor('w')"
   ]
  },
  {
   "cell_type": "markdown",
   "metadata": {},
   "source": [
    "---"
   ]
  },
  {
   "cell_type": "code",
   "execution_count": null,
   "metadata": {},
   "outputs": [],
   "source": [
    "def load_ez_samples(apogee_ids, n_samples=256):\n",
    "    ez_samples = np.full((2, mask.sum(), n_samples), np.nan)\n",
    "    for n, apogee_id in enumerate(apogee_ids):\n",
    "        filename = path.join(samples_path, apogee_id[:4],\n",
    "                             '{}.fits.gz'.format(apogee_id))\n",
    "        t = fits.getdata(filename)\n",
    "        K = min(n_samples, len(t))\n",
    "        ez_samples[0, n, :K] = t['e'][:K]\n",
    "        ez_samples[1, n, :K] = np.log(t['P'][:K])\n",
    "    \n",
    "    return ez_samples"
   ]
  },
  {
   "cell_type": "code",
   "execution_count": null,
   "metadata": {},
   "outputs": [],
   "source": [
    "B1 = beta(1.5, 50.)\n",
    "B2 = beta(1, 1.8)"
   ]
  },
  {
   "cell_type": "code",
   "execution_count": null,
   "metadata": {},
   "outputs": [],
   "source": [
    "logg_step = 0.25\n",
    "logg_binsize = 1.5 * logg_step\n",
    "logg_bins = np.arange(0, 4+1e-3, logg_step)\n",
    "\n",
    "teff_step = 300\n",
    "teff_binsize = 1.5 * teff_step\n",
    "teff_bins = np.arange(3400, 7000+1e-3, teff_step)"
   ]
  },
  {
   "cell_type": "code",
   "execution_count": null,
   "metadata": {},
   "outputs": [],
   "source": [
    "ms_pars = []\n",
    "for i, ctr in enumerate(teff_bins):\n",
    "    l = ctr - teff_binsize / 2\n",
    "    r = ctr + teff_binsize / 2\n",
    "    pixel_mask = ((metadata['TEFF'] > l) & (metadata['TEFF'] <= r))\n",
    "    mask = pixel_mask & ms_mask\n",
    "\n",
    "    print('{}: loading {} stars'.format(i, mask.sum()))\n",
    "    ez_samples = load_ez_samples(metadata['APOGEE_ID'][mask])\n",
    "    mod = Model(ez_samples, B1=B1, B2=B2)\n",
    "    p0 = mod.pack_pars({'lnk': 0., 'z0': np.log(30.), 'alpha0': 0.2,\n",
    "                        'muz': np.log(100), 'lnsigz': np.log(4.)})\n",
    "    \n",
    "    print('starting minimize')\n",
    "    res = minimize(lambda *args: -mod(*args), x0=p0, method='powell')\n",
    "    ms_pars.append(mod.unpack_pars(res.x))"
   ]
  },
  {
   "cell_type": "code",
   "execution_count": null,
   "metadata": {},
   "outputs": [],
   "source": [
    "rg_pars = []\n",
    "for i, ctr in enumerate(logg_bins):\n",
    "    l = ctr - logg_binsize / 2\n",
    "    r = ctr + logg_binsize / 2\n",
    "    pixel_mask = ((metadata['LOGG'] > l) & (metadata['LOGG'] <= r))\n",
    "    mask = pixel_mask & rg_mask\n",
    "\n",
    "    print('{}: loading {} stars'.format(i, mask.sum()))\n",
    "    ez_samples = load_ez_samples(metadata['APOGEE_ID'][mask])\n",
    "    mod = Model(ez_samples, B1=B1, B2=B2)\n",
    "    p0 = mod.pack_pars({'lnk': 0., 'z0': np.log(30.), 'alpha0': 0.2,\n",
    "                        'muz': np.log(100), 'lnsigz': np.log(4.)})\n",
    "    \n",
    "    print('starting minimize')\n",
    "    res = minimize(lambda *args: -mod(*args), x0=p0, method='powell')\n",
    "    rg_pars.append(mod.unpack_pars(res.x))"
   ]
  },
  {
   "cell_type": "markdown",
   "metadata": {},
   "source": [
    "---\n",
    "\n",
    "# MCMC"
   ]
  },
  {
   "cell_type": "code",
   "execution_count": null,
   "metadata": {},
   "outputs": [],
   "source": [
    "from schwimmbad import MultiPool"
   ]
  },
  {
   "cell_type": "code",
   "execution_count": null,
   "metadata": {},
   "outputs": [],
   "source": [
    "nparams = 5\n",
    "nwalkers = 8 * nparams"
   ]
  },
  {
   "cell_type": "code",
   "execution_count": null,
   "metadata": {},
   "outputs": [],
   "source": [
    "import pickle"
   ]
  },
  {
   "cell_type": "code",
   "execution_count": null,
   "metadata": {},
   "outputs": [],
   "source": [
    "ms_samplers = []\n",
    "for i, ctr in enumerate(teff_bins):\n",
    "    sampler_filename = 'teff_{}_sampler.pkl'.format(i)\n",
    "    if not path.exists(sampler_filename): \n",
    "        l = ctr - teff_binsize / 2\n",
    "        r = ctr + teff_binsize / 2\n",
    "        pixel_mask = ((metadata['TEFF'] > l) & (metadata['TEFF'] <= r))\n",
    "        mask = pixel_mask & ms_mask\n",
    "\n",
    "        print('{}: loading {} stars'.format(i, mask.sum()))\n",
    "        ez_samples = load_ez_samples(metadata['APOGEE_ID'][mask])\n",
    "        mod = Model(ez_samples, B1=B1, B2=B2)\n",
    "        p0 = mod.pack_pars({'lnk': 0., 'z0': np.log(30.), 'alpha0': 0.2,\n",
    "                            'muz': np.log(100), 'lnsigz': np.log(4.)})\n",
    "\n",
    "        print('starting emcee')\n",
    "        all_p0 = emcee.utils.sample_ball(mod.pack_pars(ms_pars[i]), \n",
    "                                         [1e-3] * nparams, \n",
    "                                         size=nwalkers)\n",
    "\n",
    "        with MultiPool() as pool:\n",
    "            sampler = emcee.EnsembleSampler(nwalkers=nwalkers, \n",
    "                                            ndim=nparams, \n",
    "                                            log_prob_fn=mod, \n",
    "                                            pool=pool)\n",
    "            _ = sampler.run_mcmc(all_p0, 512, progress=True)\n",
    "            sampler.pool = None\n",
    "        \n",
    "        with open(sampler_filename, 'wb') as f:\n",
    "            pickle.dump(sampler, f)\n",
    "    \n",
    "    else:\n",
    "        with open(sampler_filename, 'rb') as f:\n",
    "            sampler = pickle.load(f)\n",
    "\n",
    "    ms_samplers.append(sampler)"
   ]
  },
  {
   "cell_type": "code",
   "execution_count": null,
   "metadata": {},
   "outputs": [],
   "source": [
    "fig, axes = plt.subplots(nparams, 1, figsize=(8, 4*nparams), \n",
    "                         sharex=True)\n",
    "\n",
    "for k in range(sampler.chain.shape[-1]):\n",
    "    for walker in sampler.chain[..., k]:\n",
    "        axes[k].plot(walker, marker='', \n",
    "                     drawstyle='steps-mid', alpha=0.4, color='k')        \n",
    "fig.tight_layout()"
   ]
  },
  {
   "cell_type": "code",
   "execution_count": null,
   "metadata": {},
   "outputs": [],
   "source": []
  },
  {
   "cell_type": "code",
   "execution_count": null,
   "metadata": {},
   "outputs": [],
   "source": []
  },
  {
   "cell_type": "code",
   "execution_count": null,
   "metadata": {},
   "outputs": [],
   "source": []
  },
  {
   "cell_type": "code",
   "execution_count": null,
   "metadata": {},
   "outputs": [],
   "source": []
  },
  {
   "cell_type": "code",
   "execution_count": null,
   "metadata": {},
   "outputs": [],
   "source": [
    "pp = mod.unpack_pars(sampler.chain[0, -1])"
   ]
  },
  {
   "cell_type": "code",
   "execution_count": null,
   "metadata": {},
   "outputs": [],
   "source": [
    "zgrid = np.linspace(mod._zlim[0], mod._zlim[1], 252)\n",
    "egrid = np.linspace(0, 1, 256)\n",
    "zz, ee = np.meshgrid(zgrid, egrid)\n",
    "\n",
    "lnval_init = np.sum(mod.ln_ze_dens(mod.unpack_pars(p0), ee, zz), axis=0)\n",
    "lnval_min = np.sum(mod.ln_ze_dens(mod.unpack_pars(res.x), ee, zz), axis=0)\n",
    "lnval_emcee = np.sum(mod.ln_ze_dens(pp, ee, zz), axis=0)"
   ]
  },
  {
   "cell_type": "code",
   "execution_count": null,
   "metadata": {},
   "outputs": [],
   "source": [
    "fig, axes = plt.subplots(1, 3, figsize=(15, 5), sharex=True, sharey=True)\n",
    "axes[0].pcolormesh(zz, ee, lnval_init)\n",
    "axes[1].pcolormesh(zz, ee, lnval_min)\n",
    "axes[2].pcolormesh(zz, ee, lnval_emcee)\n",
    "fig.tight_layout()\n",
    "\n",
    "fig, axes = plt.subplots(1, 3, figsize=(15, 5), sharex=True, sharey=True)\n",
    "axes[0].pcolormesh(zz, ee, np.exp(lnval_init))\n",
    "axes[1].pcolormesh(zz, ee, np.exp(lnval_min))\n",
    "axes[2].pcolormesh(zz, ee, np.exp(lnval_emcee))\n",
    "fig.tight_layout()"
   ]
  },
  {
   "cell_type": "code",
   "execution_count": null,
   "metadata": {},
   "outputs": [],
   "source": [
    "fig, ax = plt.subplots(1, 1, figsize=(5, 5))\n",
    "# ax.plot(ez_samples[1].T, ez_samples[0].T, \n",
    "ax.plot(ez_samples[1, :, 0], ez_samples[0, :, 0], \n",
    "        marker='o', ls='none', alpha=0.4);\n",
    "ax.set_xlim(zgrid.min(), zgrid.max())\n",
    "ax.set_ylim(0, 1)"
   ]
  },
  {
   "cell_type": "code",
   "execution_count": null,
   "metadata": {},
   "outputs": [],
   "source": [
    "plt.hist(ez_samples[0, :, 0], bins=np.linspace(0, 1, 32));\n",
    "plt.plot(egrid, np.exp(lnval_emcee).sum(axis=1))"
   ]
  },
  {
   "cell_type": "code",
   "execution_count": null,
   "metadata": {},
   "outputs": [],
   "source": []
  },
  {
   "cell_type": "code",
   "execution_count": null,
   "metadata": {},
   "outputs": [],
   "source": []
  }
 ],
 "metadata": {
  "kernelspec": {
   "display_name": "conda-hq",
   "language": "python",
   "name": "conda-hq"
  },
  "language_info": {
   "codemirror_mode": {
    "name": "ipython",
    "version": 3
   },
   "file_extension": ".py",
   "mimetype": "text/x-python",
   "name": "python",
   "nbconvert_exporter": "python",
   "pygments_lexer": "ipython3",
   "version": "3.6.7"
  }
 },
 "nbformat": 4,
 "nbformat_minor": 2
}
