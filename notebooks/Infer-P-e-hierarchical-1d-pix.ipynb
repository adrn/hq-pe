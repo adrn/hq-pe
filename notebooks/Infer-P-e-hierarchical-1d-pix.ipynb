{
 "cells": [
  {
   "cell_type": "code",
   "execution_count": null,
   "metadata": {},
   "outputs": [],
   "source": [
    "import glob\n",
    "from os import path\n",
    "import os\n",
    "import sys\n",
    "path_ = path.abspath('../scripts/')\n",
    "if path_ not in sys.path:\n",
    "    sys.path.insert(0, path_)\n",
    "import pickle\n",
    "    \n",
    "import astropy.coordinates as coord\n",
    "from astropy.constants import G\n",
    "from astropy.table import Table\n",
    "import astropy.units as u\n",
    "import matplotlib as mpl\n",
    "import matplotlib.pyplot as plt\n",
    "%matplotlib inline\n",
    "import numpy as np\n",
    "from tqdm import tqdm\n",
    "\n",
    "from hq.config import HQ_CACHE_PATH, config_to_alldata\n",
    "from hq.plot import plot_two_panel, plot_phase_fold\n",
    "from hq.data import get_rvdata\n",
    "from hq.physics_helpers import period_at_surface, stellar_radius\n",
    "\n",
    "from model import Model, lntruncnorm\n",
    "from run_sampler import logg_bincenters, teff_bincenters, mh_bincenters, rg_mh_bincenters"
   ]
  },
  {
   "cell_type": "markdown",
   "metadata": {},
   "source": [
    "### RG:"
   ]
  },
  {
   "cell_type": "code",
   "execution_count": null,
   "metadata": {},
   "outputs": [],
   "source": [
    "mean_pars = []\n",
    "std_pars = []\n",
    "for filename in sorted(glob.glob('../cache/rg*.pkl')):\n",
    "    with open(filename, 'rb') as f:\n",
    "        sampler = pickle.load(f)\n",
    "    \n",
    "    flatchain = np.vstack(sampler.chain[:, 256:][:, ::8])\n",
    "    pars = Model.unpack_pars(flatchain.T)\n",
    "    \n",
    "    mean_pars.append({k: np.mean(v) for k, v in pars.items()})\n",
    "    std_pars.append({k: np.std(v) for k, v in pars.items()})\n",
    "    \n",
    "mean_pars = Table(mean_pars)\n",
    "std_pars = Table(std_pars)\n",
    "\n",
    "mean_pars['logg'] = logg_bincenters[:len(mean_pars)]\n",
    "std_pars['logg'] = logg_bincenters[:len(mean_pars)]\n",
    "\n",
    "mean_pars = mean_pars[mean_pars['logg'] >= 1]\n",
    "std_pars = std_pars[std_pars['logg'] >= 1]"
   ]
  },
  {
   "cell_type": "code",
   "execution_count": null,
   "metadata": {},
   "outputs": [],
   "source": [
    "fig, axes = plt.subplots(2, 3, figsize=(12, 6), \n",
    "                         sharex=True)\n",
    "for i, colname in enumerate(mean_pars.colnames):\n",
    "    if colname == 'logg': continue\n",
    "    ax = axes.flat[i]\n",
    "    ax.errorbar(mean_pars['logg'], \n",
    "                mean_pars[colname], std_pars[colname],\n",
    "                marker='o', ls='none')\n",
    "    # plt.xlabel(r'$\\log g$')\n",
    "    ax.set_ylabel(colname)\n",
    "\n",
    "axes.flat[-1].set_visible(False)\n",
    "    \n",
    "fig.tight_layout()"
   ]
  },
  {
   "cell_type": "code",
   "execution_count": null,
   "metadata": {},
   "outputs": [],
   "source": [
    "norm = mpl.colors.Normalize(vmin=mean_pars['logg'].min(),\n",
    "                            vmax=mean_pars['logg'].max())\n",
    "cmap = plt.get_cmap('magma')"
   ]
  },
  {
   "cell_type": "code",
   "execution_count": null,
   "metadata": {},
   "outputs": [],
   "source": [
    "plt.figure()\n",
    "P_grid = np.logspace(np.log10(2), np.log10(65536), 1024)\n",
    "for row in mean_pars:\n",
    "    sigma = np.exp(row['lnsigz'])\n",
    "    mu = row['muz']\n",
    "    \n",
    "    y = np.exp(lntruncnorm(np.log(P_grid), mu, sigma, np.log(2.), np.log(65536)))\n",
    "    plt.plot(P_grid, y, marker='', color=cmap(norm(row['logg'])))\n",
    "    \n",
    "plt.xscale('log', basex=10)"
   ]
  },
  {
   "cell_type": "markdown",
   "metadata": {},
   "source": [
    "### MS:"
   ]
  },
  {
   "cell_type": "code",
   "execution_count": null,
   "metadata": {},
   "outputs": [],
   "source": [
    "mean_pars = []\n",
    "std_pars = []\n",
    "for filename in sorted(glob.glob('../cache/ms_*.pkl')):\n",
    "    with open(filename, 'rb') as f:\n",
    "        sampler = pickle.load(f)\n",
    "    \n",
    "    flatchain = np.vstack(sampler.chain[:, 256:][:, ::8])\n",
    "    pars = Model.unpack_pars(flatchain.T)\n",
    "    \n",
    "    mean_pars.append({k: np.mean(v) for k, v in pars.items()})\n",
    "    std_pars.append({k: np.std(v) for k, v in pars.items()})\n",
    "    \n",
    "mean_pars = Table(mean_pars)\n",
    "std_pars = Table(std_pars)\n",
    "\n",
    "mean_pars['teff'] = teff_bincenters[:len(mean_pars)]\n",
    "std_pars['teff'] = teff_bincenters[:len(mean_pars)]\n",
    "\n",
    "mean_pars = mean_pars[mean_pars['teff'] < 6500]\n",
    "std_pars = std_pars[std_pars['teff'] < 6500]"
   ]
  },
  {
   "cell_type": "code",
   "execution_count": null,
   "metadata": {},
   "outputs": [],
   "source": [
    "norm = mpl.colors.Normalize(vmin=mean_pars['teff'].min(),\n",
    "                            vmax=mean_pars['teff'].max())\n",
    "cmap = plt.get_cmap('magma')"
   ]
  },
  {
   "cell_type": "code",
   "execution_count": null,
   "metadata": {},
   "outputs": [],
   "source": [
    "plt.figure()\n",
    "P_grid = np.logspace(np.log10(2), np.log10(65536), 1024)\n",
    "for row in mean_pars:\n",
    "    sigma = np.exp(row['lnsigz'])\n",
    "    mu = row['muz']\n",
    "    \n",
    "    y = np.exp(lntruncnorm(np.log(P_grid), mu, sigma, np.log(2.), np.log(65536)))\n",
    "    plt.plot(P_grid, y, marker='', color=cmap(norm(row['teff'])))\n",
    "    \n",
    "plt.xscale('log', basex=10)"
   ]
  },
  {
   "cell_type": "code",
   "execution_count": null,
   "metadata": {},
   "outputs": [],
   "source": [
    "fig, axes = plt.subplots(2, 3, figsize=(12, 6), \n",
    "                         sharex=True)\n",
    "for i, colname in enumerate(mean_pars.colnames):\n",
    "    if colname == 'teff': continue\n",
    "    ax = axes.flat[i]\n",
    "    ax.errorbar(mean_pars['teff'], \n",
    "                mean_pars[colname], std_pars[colname],\n",
    "                marker='o', ls='none')\n",
    "    # plt.xlabel(r'$\\log g$')\n",
    "    ax.set_ylabel(colname)\n",
    "\n",
    "fig.tight_layout()"
   ]
  },
  {
   "cell_type": "markdown",
   "metadata": {},
   "source": [
    "### MS M/H:"
   ]
  },
  {
   "cell_type": "code",
   "execution_count": null,
   "metadata": {},
   "outputs": [],
   "source": [
    "mean_pars = []\n",
    "std_pars = []\n",
    "for filename in sorted(glob.glob('../cache/ms-mh*.pkl')):\n",
    "    with open(filename, 'rb') as f:\n",
    "        sampler = pickle.load(f)\n",
    "    \n",
    "    flatchain = np.vstack(sampler.chain[:, 256:][:, ::8])\n",
    "    pars = Model.unpack_pars(flatchain.T)\n",
    "    \n",
    "    mean_pars.append({k: np.mean(v) for k, v in pars.items()})\n",
    "    std_pars.append({k: np.std(v) for k, v in pars.items()})\n",
    "    \n",
    "mean_pars = Table(mean_pars)\n",
    "std_pars = Table(std_pars)\n",
    "\n",
    "mean_pars['m_h'] = mh_bincenters[:len(mean_pars)]\n",
    "std_pars['m_h'] = mh_bincenters[:len(mean_pars)]\n",
    "\n",
    "# mean_pars = mean_pars[mean_pars['teff'] < 6500]\n",
    "# std_pars = std_pars[std_pars['teff'] < 6500]"
   ]
  },
  {
   "cell_type": "code",
   "execution_count": null,
   "metadata": {},
   "outputs": [],
   "source": [
    "for colname in mean_pars.colnames:\n",
    "    if colname == 'm_h': continue\n",
    "    plt.figure()\n",
    "    plt.errorbar(mean_pars['m_h'], \n",
    "                 mean_pars[colname], std_pars[colname],\n",
    "                 marker='o', ls='none')\n",
    "    # plt.xlabel(r'$\\log g$')\n",
    "    plt.ylabel(colname)"
   ]
  },
  {
   "cell_type": "code",
   "execution_count": null,
   "metadata": {},
   "outputs": [],
   "source": [
    "norm = mpl.colors.Normalize(vmin=mean_pars['m_h'].min(),\n",
    "                            vmax=mean_pars['m_h'].max())\n",
    "cmap = plt.get_cmap('magma')"
   ]
  },
  {
   "cell_type": "code",
   "execution_count": null,
   "metadata": {},
   "outputs": [],
   "source": [
    "plt.figure()\n",
    "P_grid = np.logspace(np.log10(2), np.log10(65536), 1024)\n",
    "for row in mean_pars:\n",
    "    sigma = np.exp(row['lnsigz'])\n",
    "    mu = row['muz']\n",
    "    \n",
    "    y = np.exp(lntruncnorm(np.log(P_grid), mu, sigma, np.log(2.), np.log(65536)))\n",
    "    plt.plot(P_grid, y, marker='', color=cmap(norm(row['m_h'])))\n",
    "    \n",
    "plt.xscale('log', basex=10)"
   ]
  },
  {
   "cell_type": "markdown",
   "metadata": {},
   "source": [
    "### RG M/H:"
   ]
  },
  {
   "cell_type": "code",
   "execution_count": null,
   "metadata": {},
   "outputs": [],
   "source": [
    "mean_pars = []\n",
    "std_pars = []\n",
    "for filename in sorted(glob.glob('../cache/rg-mh*.pkl')):\n",
    "    with open(filename, 'rb') as f:\n",
    "        sampler = pickle.load(f)\n",
    "    \n",
    "    flatchain = np.vstack(sampler.chain[:, 256:][:, ::8])\n",
    "    pars = Model.unpack_pars(flatchain.T)\n",
    "    \n",
    "    mean_pars.append({k: np.mean(v) for k, v in pars.items()})\n",
    "    std_pars.append({k: np.std(v) for k, v in pars.items()})\n",
    "    \n",
    "mean_pars = Table(mean_pars)\n",
    "std_pars = Table(std_pars)\n",
    "\n",
    "mean_pars['m_h'] = rg_mh_bincenters[:len(mean_pars)]\n",
    "std_pars['m_h'] = rg_mh_bincenters[:len(mean_pars)]\n",
    "print(len(std_pars))\n",
    "\n",
    "# mean_pars = mean_pars[mean_pars['teff'] < 6500]\n",
    "# std_pars = std_pars[std_pars['teff'] < 6500]"
   ]
  },
  {
   "cell_type": "code",
   "execution_count": null,
   "metadata": {},
   "outputs": [],
   "source": [
    "fig, axes = plt.subplots(2, 3, figsize=(12, 6), \n",
    "                         sharex=True)\n",
    "for i, colname in enumerate(mean_pars.colnames):\n",
    "    if colname == 'm_h': continue\n",
    "    ax = axes.flat[i]\n",
    "    ax.errorbar(mean_pars['m_h'], \n",
    "                mean_pars[colname], std_pars[colname],\n",
    "                marker='o', ls='none')\n",
    "    # plt.xlabel(r'$\\log g$')\n",
    "    ax.set_ylabel(colname)\n",
    "\n",
    "fig.tight_layout()"
   ]
  },
  {
   "cell_type": "code",
   "execution_count": null,
   "metadata": {},
   "outputs": [],
   "source": [
    "norm = mpl.colors.Normalize(vmin=mean_pars['m_h'].min(),\n",
    "                            vmax=mean_pars['m_h'].max())\n",
    "cmap = plt.get_cmap('magma')"
   ]
  },
  {
   "cell_type": "code",
   "execution_count": null,
   "metadata": {},
   "outputs": [],
   "source": [
    "plt.figure()\n",
    "P_grid = np.logspace(np.log10(2), np.log10(65536), 1024)\n",
    "for row in mean_pars:\n",
    "    sigma = np.exp(row['lnsigz'])\n",
    "    mu = row['muz']\n",
    "    \n",
    "    y = np.exp(lntruncnorm(np.log(P_grid), mu, sigma, np.log(2.), np.log(65536)))\n",
    "    plt.plot(P_grid, y, marker='', color=cmap(norm(row['m_h'])))\n",
    "    \n",
    "plt.xscale('log', basex=10)"
   ]
  },
  {
   "cell_type": "code",
   "execution_count": null,
   "metadata": {},
   "outputs": [],
   "source": []
  },
  {
   "cell_type": "code",
   "execution_count": null,
   "metadata": {},
   "outputs": [],
   "source": []
  },
  {
   "cell_type": "code",
   "execution_count": null,
   "metadata": {},
   "outputs": [],
   "source": []
  }
 ],
 "metadata": {
  "kernelspec": {
   "display_name": "conda-hq",
   "language": "python",
   "name": "conda-hq"
  },
  "language_info": {
   "codemirror_mode": {
    "name": "ipython",
    "version": 3
   },
   "file_extension": ".py",
   "mimetype": "text/x-python",
   "name": "python",
   "nbconvert_exporter": "python",
   "pygments_lexer": "ipython3",
   "version": "3.6.7"
  }
 },
 "nbformat": 4,
 "nbformat_minor": 2
}
