{
 "cells": [
  {
   "cell_type": "code",
   "execution_count": null,
   "metadata": {},
   "outputs": [],
   "source": [
    "from os import path\n",
    "\n",
    "from astropy.constants import G\n",
    "from astropy.table import Table\n",
    "import astropy.units as u\n",
    "import h5py\n",
    "import matplotlib.pyplot as plt\n",
    "%matplotlib inline\n",
    "import numpy as np\n",
    "from tqdm import tqdm\n",
    "\n",
    "from hq.config import HQ_CACHE_PATH\n",
    "from hq.db import db_connect, AllStar, StarResult, Status, JokerRun\n",
    "from hq.io import load_samples\n",
    "from hq.plot import plot_two_panel, plot_phase_fold\n",
    "\n",
    "from thejoker.plot import plot_rv_curves"
   ]
  },
  {
   "cell_type": "code",
   "execution_count": null,
   "metadata": {},
   "outputs": [],
   "source": [
    "run_name = 'apogee-sample-jitter'"
   ]
  },
  {
   "cell_type": "code",
   "execution_count": null,
   "metadata": {},
   "outputs": [],
   "source": [
    "f = h5py.File(path.join(HQ_CACHE_PATH, '{0}.hdf5'.format(run.name)), 'r')"
   ]
  },
  {
   "cell_type": "code",
   "execution_count": null,
   "metadata": {},
   "outputs": [],
   "source": [
    "def get_samples(star, data, run):\n",
    "    # with h5py.File(path.join(HQ_CACHE_PATH, '{0}.hdf5'.format(run.name)), 'r') as f:\n",
    "    samples = load_samples(f[star.apogee_id], poly_trend=run.poly_trend, t0=data.t0)\n",
    "        \n",
    "    return samples"
   ]
  },
  {
   "cell_type": "code",
   "execution_count": null,
   "metadata": {},
   "outputs": [],
   "source": [
    "thepayne = Table.read('../data/Apogee_The_Payne.txt', format='ascii.commented_header')\n",
    "payne_mask = ((thepayne['Logg'] > 0) & (thepayne['Logg'] < 3.5) &\n",
    "              (thepayne['Teff[K]'] > 3000) & (thepayne['Teff[K]'] < 5500))\n",
    "thepayne = thepayne[payne_mask]\n",
    "\n",
    "apogee_ids = np.unique(thepayne['APOGEE_ID'])\n",
    "len(apogee_ids)"
   ]
  },
  {
   "cell_type": "code",
   "execution_count": null,
   "metadata": {},
   "outputs": [],
   "source": [
    "Session, engine = db_connect(path.join(HQ_CACHE_PATH, 'apogee.sqlite'))\n",
    "s = Session()"
   ]
  },
  {
   "cell_type": "code",
   "execution_count": null,
   "metadata": {},
   "outputs": [],
   "source": [
    "run = s.query(JokerRun).filter(JokerRun.name == run_name).limit(1).one()"
   ]
  },
  {
   "cell_type": "code",
   "execution_count": null,
   "metadata": {},
   "outputs": [],
   "source": [
    "status_ids = np.sort([x[0] for x in s.query(Status.id).distinct().all()])\n",
    "for i in status_ids:\n",
    "    N = s.query(AllStar).join(StarResult, Status, JokerRun)\\\n",
    "                        .filter(Status.id == i)\\\n",
    "                        .filter(JokerRun.name == run.name)\\\n",
    "                        .group_by(AllStar.apogee_id)\\\n",
    "                        .distinct().count()\n",
    "    msg = s.query(Status).filter(Status.id == i).limit(1).one().message\n",
    "    print(\"Status {0} ({2}) : {1}\".format(i, N, msg))"
   ]
  },
  {
   "cell_type": "code",
   "execution_count": null,
   "metadata": {},
   "outputs": [],
   "source": [
    "stars = s.query(AllStar).join(StarResult, Status, JokerRun)\\\n",
    "                        .filter(Status.id == 2)\\\n",
    "                        .filter(JokerRun.name == run.name)\\\n",
    "                        .filter(~AllStar.starflags.like('%BRIGHT_NEIGHBOR%'))\\\n",
    "                        .filter(~AllStar.starflags.like('%STAR_WARN%'))\\\n",
    "                        .filter(~AllStar.starflags.like('%ATMOS%'))\\\n",
    "                        .filter(~AllStar.aspcapflags.like('%ATMOS%'))\\\n",
    "                        .group_by(AllStar.apogee_id).distinct().all()\n",
    "\n",
    "len(stars)"
   ]
  },
  {
   "cell_type": "code",
   "execution_count": null,
   "metadata": {},
   "outputs": [],
   "source": [
    "logg = []\n",
    "teff = []\n",
    "P = []\n",
    "ecc = []\n",
    "K = []\n",
    "jitter = []\n",
    "for star in tqdm(stars):\n",
    "    data = star.get_rvdata()\n",
    "    samples = get_samples(star, data, run)\n",
    "    P.append(np.mean(samples['P']))\n",
    "    ecc.append(np.mean(samples['e']))\n",
    "    K.append(np.mean(samples['K']))\n",
    "    jitter.append(np.mean(samples['jitter']))\n",
    "    logg.append(star.logg)\n",
    "    teff.append(star.teff)\n",
    "    # payne_i = np.where(star.apogee_id == apogee_ids)[0][0]\n",
    "    # payne_logg.append(thepayne[payne_i]['Logg'])\n",
    "\n",
    "# payne_logg = np.array(payne_logg)\n",
    "logg = np.array(logg)\n",
    "teff = np.array(teff)\n",
    "P = u.Quantity(P)\n",
    "ecc = np.array(ecc)\n",
    "K = u.Quantity(K)\n",
    "jitter = u.Quantity(jitter)"
   ]
  },
  {
   "cell_type": "code",
   "execution_count": null,
   "metadata": {},
   "outputs": [],
   "source": [
    "mask = (K > 1*u.km/u.s) & (P > 20*u.day) & (P < 300*u.day) & (logg > 2) & (logg < 4)\n",
    "\n",
    "fig, ax = plt.subplots(1, 1, figsize=(6, 5))\n",
    "# ax.hist(P[mask].value, \n",
    "#         bins=np.logspace(0, 4.5, 21))\n",
    "# ax.set_xscale('log')\n",
    "\n",
    "from scipy.stats import beta\n",
    "bins = np.linspace(0, 1, 10)\n",
    "ax.hist(ecc[mask], bins=bins, density=True);\n",
    "\n",
    "_x = np.linspace(0, 1, 100)\n",
    "ax.plot(_x, beta.pdf(_x, a=0.867, b=3.03))"
   ]
  },
  {
   "cell_type": "code",
   "execution_count": null,
   "metadata": {},
   "outputs": [],
   "source": [
    "f.close()"
   ]
  },
  {
   "cell_type": "code",
   "execution_count": null,
   "metadata": {},
   "outputs": [],
   "source": []
  },
  {
   "cell_type": "code",
   "execution_count": null,
   "metadata": {},
   "outputs": [],
   "source": []
  },
  {
   "cell_type": "markdown",
   "metadata": {},
   "source": [
    "## Period vs. eccentricity:"
   ]
  },
  {
   "cell_type": "code",
   "execution_count": null,
   "metadata": {},
   "outputs": [],
   "source": [
    "K_mask = (K > 5*u.km/u.s) & (P > 2*u.day)\n",
    "print(K_mask.sum())\n",
    "\n",
    "plt.figure(figsize=(6, 6))\n",
    "plt.plot(P.to_value(u.day)[K_mask], ecc[K_mask], \n",
    "         marker='.', color='k', alpha=0.5, ls='none')\n",
    "plt.xscale('log')\n",
    "plt.xlim(1, 2000)\n",
    "plt.ylim(0, 1)"
   ]
  },
  {
   "cell_type": "code",
   "execution_count": null,
   "metadata": {},
   "outputs": [],
   "source": [
    "weirdos = np.where((P < 5*u.day) & (ecc > 0.3) & K_mask)[0]\n",
    "len(weirdos)"
   ]
  },
  {
   "cell_type": "code",
   "execution_count": null,
   "metadata": {},
   "outputs": [],
   "source": [
    "for i in weirdos[:10]:\n",
    "    star = stars[i]\n",
    "    data = star.get_rvdata()\n",
    "    samples = get_samples(star, data, run)\n",
    "    \n",
    "    fig = plot_two_panel(data, samples)\n",
    "    fig.axes[0].set_title(star.apogee_id + ': ' + star.starflags + ' ' + star.aspcapflags)\n",
    "    print(star.apogee_id, star.logg, star.teff)"
   ]
  },
  {
   "cell_type": "code",
   "execution_count": null,
   "metadata": {},
   "outputs": [],
   "source": []
  },
  {
   "cell_type": "code",
   "execution_count": null,
   "metadata": {},
   "outputs": [],
   "source": []
  },
  {
   "cell_type": "code",
   "execution_count": null,
   "metadata": {},
   "outputs": [],
   "source": []
  },
  {
   "cell_type": "code",
   "execution_count": null,
   "metadata": {},
   "outputs": [],
   "source": []
  },
  {
   "cell_type": "markdown",
   "metadata": {},
   "source": [
    "## jitter trends with surface gravity?"
   ]
  },
  {
   "cell_type": "code",
   "execution_count": null,
   "metadata": {},
   "outputs": [],
   "source": [
    "stars = s.query(AllStar).join(StarResult, Status, JokerRun)\\\n",
    "                        .filter(Status.id == 4)\\\n",
    "                        .filter(JokerRun.name == run.name)\\\n",
    "                        .filter(AllStar.nvisits >= 7)\\\n",
    "                        .filter(AllStar.nvisits <= 20)\\\n",
    "                        .filter(AllStar.apogee_id.in_(apogee_ids))\\\n",
    "                        .group_by(AllStar.apogee_id).distinct().all()\n",
    "len(stars)"
   ]
  },
  {
   "cell_type": "code",
   "execution_count": null,
   "metadata": {},
   "outputs": [],
   "source": [
    "for star in stars[:4]:\n",
    "    data = star.get_rvdata()\n",
    "    samples = get_samples(star, data, run)\n",
    "    \n",
    "    fig = plot_two_panel(data, samples)"
   ]
  },
  {
   "cell_type": "code",
   "execution_count": null,
   "metadata": {},
   "outputs": [],
   "source": [
    "all_jitters = []\n",
    "payne_logg = []\n",
    "for star in tqdm(stars):\n",
    "    data = star.get_rvdata()\n",
    "    samples = get_samples(star, data, run)\n",
    "    all_jitters.append(samples['jitter'])\n",
    "    \n",
    "    payne_i = np.where(star.apogee_id == apogee_ids)[0][0]\n",
    "    payne_logg.append(thepayne[payne_i]['Logg'])\n",
    "\n",
    "payne_logg = np.array(payne_logg)\n",
    "all_jitters = u.Quantity(all_jitters)"
   ]
  },
  {
   "cell_type": "code",
   "execution_count": null,
   "metadata": {},
   "outputs": [],
   "source": [
    "s_ms = all_jitters.to_value(u.m/u.s)"
   ]
  },
  {
   "cell_type": "code",
   "execution_count": null,
   "metadata": {},
   "outputs": [],
   "source": [
    "all_jitters.shape"
   ]
  },
  {
   "cell_type": "code",
   "execution_count": null,
   "metadata": {},
   "outputs": [],
   "source": [
    "payne_logg.shape"
   ]
  },
  {
   "cell_type": "code",
   "execution_count": null,
   "metadata": {},
   "outputs": [],
   "source": [
    "fig, ax = plt.subplots(1, 1, figsize=(12, 8))\n",
    "\n",
    "ax.plot(payne_logg[:, None], s_ms, \n",
    "        marker=',', ls='none', alpha=0.1, color='k')\n",
    "\n",
    "ax.set_xlim(3.1, 0.4)\n",
    "ax.set_yscale('log')"
   ]
  },
  {
   "cell_type": "code",
   "execution_count": null,
   "metadata": {},
   "outputs": [],
   "source": []
  },
  {
   "cell_type": "code",
   "execution_count": null,
   "metadata": {},
   "outputs": [],
   "source": []
  },
  {
   "cell_type": "code",
   "execution_count": null,
   "metadata": {},
   "outputs": [],
   "source": []
  },
  {
   "cell_type": "code",
   "execution_count": null,
   "metadata": {},
   "outputs": [],
   "source": []
  },
  {
   "cell_type": "code",
   "execution_count": null,
   "metadata": {},
   "outputs": [],
   "source": []
  }
 ],
 "metadata": {
  "kernelspec": {
   "display_name": "conda-hq",
   "language": "python",
   "name": "conda-hq"
  },
  "language_info": {
   "codemirror_mode": {
    "name": "ipython",
    "version": 3
   },
   "file_extension": ".py",
   "mimetype": "text/x-python",
   "name": "python",
   "nbconvert_exporter": "python",
   "pygments_lexer": "ipython3",
   "version": "3.6.7"
  }
 },
 "nbformat": 4,
 "nbformat_minor": 2
}
