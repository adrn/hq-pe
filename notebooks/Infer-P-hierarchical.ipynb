{
 "cells": [
  {
   "cell_type": "code",
   "execution_count": null,
   "metadata": {},
   "outputs": [],
   "source": [
    "import glob\n",
    "from os import path\n",
    "import os\n",
    "import sys\n",
    "path_ = path.abspath('../scripts/')\n",
    "if path_ not in sys.path:\n",
    "    sys.path.insert(0, path_)\n",
    "import pickle\n",
    "    \n",
    "import astropy.coordinates as coord\n",
    "from astropy.constants import G\n",
    "from astropy.table import Table\n",
    "import astropy.units as u\n",
    "import matplotlib as mpl\n",
    "import matplotlib.pyplot as plt\n",
    "%matplotlib inline\n",
    "import numpy as np\n",
    "from tqdm import tqdm\n",
    "from schwimmbad import MultiPool\n",
    "\n",
    "from hq.config import HQ_CACHE_PATH, config_to_alldata\n",
    "from hq.plot import plot_two_panel, plot_phase_fold\n",
    "from hq.data import get_rvdata\n",
    "from hq.physics_helpers import period_at_surface, stellar_radius\n",
    "from hq.log import logger\n",
    "\n",
    "from helpers import get_metadata, get_rg_mask\n",
    "from model_z import Model, lntruncnorm\n",
    "from run_sampler import (logg_bincenters, teff_bincenters, mh_bincenters, \n",
    "                         logg_binsize)"
   ]
  },
  {
   "cell_type": "code",
   "execution_count": null,
   "metadata": {},
   "outputs": [],
   "source": [
    "cache_path = path.abspath('../cache/')\n",
    "plot_path = path.abspath('../plots/')"
   ]
  },
  {
   "cell_type": "code",
   "execution_count": null,
   "metadata": {},
   "outputs": [],
   "source": [
    "# Load all data:\n",
    "metadata = get_metadata()\n",
    "rg_mask = get_rg_mask(metadata['TEFF'], metadata['LOGG'])\n",
    "metadata = metadata[rg_mask]"
   ]
  },
  {
   "cell_type": "code",
   "execution_count": null,
   "metadata": {},
   "outputs": [],
   "source": [
    "from os import path\n",
    "from astropy.io import fits\n",
    "def get_z_samples(apogee_ids, n_samples=256):\n",
    "    samples_path = path.join(HQ_CACHE_PATH, 'dr16/samples')\n",
    "\n",
    "    z_samples = np.full((len(apogee_ids), n_samples), np.nan)\n",
    "    for n, apogee_id in enumerate(apogee_ids):\n",
    "        filename = path.join(samples_path, apogee_id[:4],\n",
    "                             '{}.fits.gz'.format(apogee_id))\n",
    "        t = fits.getdata(filename)\n",
    "        K = min(n_samples, len(t))\n",
    "        z_samples[n, :K] = np.log10(t['P'][:K])\n",
    "\n",
    "    return z_samples"
   ]
  },
  {
   "cell_type": "code",
   "execution_count": null,
   "metadata": {},
   "outputs": [],
   "source": [
    "for i, ctr in enumerate(logg_bincenters[8:9]):\n",
    "    l = ctr - logg_binsize / 2\n",
    "    r = ctr + logg_binsize / 2\n",
    "    print(l, r)\n",
    "    pixel_mask = ((metadata['LOGG'] > l) & (metadata['LOGG'] <= r))\n",
    "\n",
    "    # Load samples for this bin:\n",
    "    # logger.debug(\"{} {}: Loading samples\".format(name, i))\n",
    "    z_samples = get_z_samples(metadata['APOGEE_ID'][pixel_mask])\n",
    "\n",
    "#     # Run\n",
    "#     with MultiPool() as pool:\n",
    "#         run_pixel(name, i, ez_samples, '/dev/null', '/dev/null', pool,\n",
    "#                   nwalkers=80)"
   ]
  },
  {
   "cell_type": "code",
   "execution_count": null,
   "metadata": {},
   "outputs": [],
   "source": [
    "from scipy.optimize import minimize\n",
    "import emcee\n",
    "import pickle\n",
    "\n",
    "def run_pixel(name, i, z_samples, cache_path, plot_path, pool,\n",
    "              nwalkers=80, progress=False, overwrite=False):\n",
    "    min_filename = path.join(cache_path, '{}_{:02d}_res.npy'.format(name, i))\n",
    "    emcee_filename = path.join(cache_path,\n",
    "                               '{}_{:02d}_emcee.pkl'.format(name, i))\n",
    "\n",
    "    # Create a model instance so we can evaluate likelihood, etc.\n",
    "    nparams = 2\n",
    "    mod = Model(z_samples)\n",
    "\n",
    "    if not path.exists(min_filename) and not path.exists(emcee_filename):\n",
    "        # Initial parameters for optimization\n",
    "        p0 = mod.pack_pars({'muz': np.log10(10**5.), 'lnsigz': np.log(4.)})\n",
    "\n",
    "        logger.debug(\"{} {}: Starting minimize\".format(name, i))\n",
    "        res = minimize(lambda *args: -mod(*args), x0=p0, method='powell')\n",
    "        min_x = res.x\n",
    "        np.save(min_filename, min_x)\n",
    "\n",
    "    # emcee run:\n",
    "    logger.debug(\"{} {}: Done with minimize\".format(name, i))\n",
    "\n",
    "    if not path.exists(emcee_filename) or overwrite:\n",
    "        min_x = np.load(min_filename)\n",
    "\n",
    "        # initialization for all walkers\n",
    "        all_p0 = emcee.utils.sample_ball(min_x, [1e-3] * nparams,\n",
    "                                         size=nwalkers)\n",
    "        \n",
    "        print(\"HERE\")\n",
    "        sampler = emcee.EnsembleSampler(nwalkers=nwalkers,\n",
    "                                        ndim=nparams,\n",
    "                                        log_prob_fn=mod,\n",
    "                                        pool=pool)\n",
    "        pos, *_ = sampler.run_mcmc(all_p0, 512, progress=progress)\n",
    "        sampler.pool = None\n",
    "\n",
    "        with open(emcee_filename, \"wb\") as f:\n",
    "            pickle.dump(sampler, f)\n",
    "\n",
    "    else:\n",
    "        with open(emcee_filename, \"rb\") as f:\n",
    "            sampler = pickle.load(f)\n",
    "\n",
    "    # Plot walker traces:\n",
    "    fig, axes = plt.subplots(nparams, 1, figsize=(8, 4*nparams),\n",
    "                             sharex=True)\n",
    "\n",
    "    for k in range(nparams):\n",
    "        for walker in sampler.chain[..., k]:\n",
    "            axes[k].plot(walker, marker='',\n",
    "                         drawstyle='steps-mid', alpha=0.4, color='k')\n",
    "    axes[0].set_title(str(i))\n",
    "    fig.tight_layout()\n",
    "    fig.savefig(path.join(plot_path, '{}_{:02d}_trace.png'.format(name, i)),\n",
    "                dpi=250)\n",
    "\n",
    "    return fig, sampler"
   ]
  },
  {
   "cell_type": "code",
   "execution_count": null,
   "metadata": {},
   "outputs": [],
   "source": [
    "# Run\n",
    "with MultiPool(processes=4) as pool:\n",
    "    _, sampler = run_pixel('test', i, z_samples, \n",
    "                           cache_path, plot_path,\n",
    "                           pool, nwalkers=80, progress=True,\n",
    "                           overwrite=True)"
   ]
  },
  {
   "cell_type": "code",
   "execution_count": null,
   "metadata": {},
   "outputs": [],
   "source": []
  },
  {
   "cell_type": "code",
   "execution_count": null,
   "metadata": {},
   "outputs": [],
   "source": []
  },
  {
   "cell_type": "code",
   "execution_count": null,
   "metadata": {},
   "outputs": [],
   "source": []
  }
 ],
 "metadata": {
  "kernelspec": {
   "display_name": "conda-hq",
   "language": "python",
   "name": "conda-hq"
  },
  "language_info": {
   "codemirror_mode": {
    "name": "ipython",
    "version": 3
   },
   "file_extension": ".py",
   "mimetype": "text/x-python",
   "name": "python",
   "nbconvert_exporter": "python",
   "pygments_lexer": "ipython3",
   "version": "3.6.7"
  }
 },
 "nbformat": 4,
 "nbformat_minor": 2
}
