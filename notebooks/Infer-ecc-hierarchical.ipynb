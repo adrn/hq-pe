{
 "cells": [
  {
   "cell_type": "code",
   "execution_count": null,
   "metadata": {},
   "outputs": [],
   "source": [
    "from os import path\n",
    "\n",
    "from astropy.constants import G\n",
    "from astropy.table import Table\n",
    "import astropy.units as u\n",
    "import h5py\n",
    "import matplotlib.pyplot as plt\n",
    "%matplotlib inline\n",
    "import numpy as np\n",
    "from tqdm import tqdm\n",
    "from scipy.stats import beta\n",
    "from scipy.special import logsumexp\n",
    "from scipy.optimize import minimize\n",
    "\n",
    "from hq.config import HQ_CACHE_PATH\n",
    "from hq.db import db_connect, AllStar, StarResult, Status, JokerRun\n",
    "from hq.io import load_samples\n",
    "from hq.plot import plot_two_panel, plot_phase_fold\n",
    "\n",
    "from thejoker.plot import plot_rv_curves"
   ]
  },
  {
   "cell_type": "code",
   "execution_count": null,
   "metadata": {},
   "outputs": [],
   "source": [
    "run_name = 'apogee-r10-l31c-58297'\n",
    "NSAMPLES = 256"
   ]
  },
  {
   "cell_type": "code",
   "execution_count": null,
   "metadata": {},
   "outputs": [],
   "source": [
    "f = h5py.File(path.join(HQ_CACHE_PATH, '{0}.hdf5'.format(run_name)), 'r')"
   ]
  },
  {
   "cell_type": "code",
   "execution_count": null,
   "metadata": {},
   "outputs": [],
   "source": [
    "def get_samples(star, data, run):\n",
    "    # with h5py.File(path.join(HQ_CACHE_PATH, '{0}.hdf5'.format(run.name)), 'r') as f:\n",
    "    samples = load_samples(f[star.apogee_id], poly_trend=run.poly_trend, t0=data.t0)\n",
    "        \n",
    "    return samples"
   ]
  },
  {
   "cell_type": "code",
   "execution_count": null,
   "metadata": {},
   "outputs": [],
   "source": [
    "Session, engine = db_connect(path.join(HQ_CACHE_PATH, '{}.sqlite'.format(run_name)))\n",
    "s = Session()"
   ]
  },
  {
   "cell_type": "code",
   "execution_count": null,
   "metadata": {},
   "outputs": [],
   "source": [
    "run = s.query(JokerRun).filter(JokerRun.name == run_name).limit(1).one()"
   ]
  },
  {
   "cell_type": "code",
   "execution_count": null,
   "metadata": {},
   "outputs": [],
   "source": [
    "status_ids = np.sort([x[0] for x in s.query(Status.id).distinct().all()])\n",
    "for i in status_ids:\n",
    "    N = s.query(AllStar).join(StarResult, Status, JokerRun)\\\n",
    "                        .filter(Status.id == i)\\\n",
    "                        .filter(JokerRun.name == run.name)\\\n",
    "                        .group_by(AllStar.apogee_id)\\\n",
    "                        .distinct().count()\n",
    "    msg = s.query(Status).filter(Status.id == i).limit(1).one().message\n",
    "    print(\"Status {0} ({2}) : {1}\".format(i, N, msg))"
   ]
  },
  {
   "cell_type": "code",
   "execution_count": null,
   "metadata": {},
   "outputs": [],
   "source": [
    "stars = s.query(AllStar).join(StarResult, Status, JokerRun)\\\n",
    "                        .filter(Status.id == 4)\\\n",
    "                        .filter(JokerRun.name == run.name)\\\n",
    "                        .filter(AllStar.logg > 1.5)\\\n",
    "                        .filter(AllStar.logg < 4.)\\\n",
    "                        .filter(~AllStar.starflags.like('%BRIGHT_NEIGHBOR%'))\\\n",
    "                        .filter(~AllStar.starflags.like('%STAR_WARN%'))\\\n",
    "                        .filter(~AllStar.starflags.like('%ATMOS%'))\\\n",
    "                        .filter(~AllStar.aspcapflags.like('%ATMOS%'))\\\n",
    "                        .group_by(AllStar.apogee_id).distinct().all()\n",
    "\n",
    "len(stars)"
   ]
  },
  {
   "cell_type": "code",
   "execution_count": null,
   "metadata": {},
   "outputs": [],
   "source": [
    "all_ecc = np.full((len(stars), NSAMPLES), np.nan)\n",
    "\n",
    "i = 0\n",
    "for star in tqdm(stars):\n",
    "    data = star.get_rvdata()\n",
    "    samples = get_samples(star, data, run)\n",
    "    P_mask = (samples['P'] > 30*u.day) & (samples['P'] < 365*u.day)\n",
    "    all_ecc[i, :P_mask.sum()] = samples['e'][P_mask]\n",
    "    i += 1"
   ]
  },
  {
   "cell_type": "code",
   "execution_count": null,
   "metadata": {},
   "outputs": [],
   "source": [
    "all_feh = np.array([star.fe_h for star in stars])"
   ]
  },
  {
   "cell_type": "markdown",
   "metadata": {},
   "source": [
    "Number of samples for each star:"
   ]
  },
  {
   "cell_type": "code",
   "execution_count": null,
   "metadata": {},
   "outputs": [],
   "source": [
    "K_n = np.isfinite(all_ecc).sum(axis=-1)\n",
    "\n",
    "K_thresh = 16\n",
    "mask = (K_n >= K_thresh) & (all_feh > -0.5) & (all_feh < 0.5)\n",
    "ecc = all_ecc[mask]\n",
    "feh = all_feh[mask]\n",
    "K_n = K_n[mask]"
   ]
  },
  {
   "cell_type": "code",
   "execution_count": null,
   "metadata": {},
   "outputs": [],
   "source": [
    "plt.hist(K_n)\n",
    "plt.yscale('log')\n",
    "plt.xlabel('$K_n$')"
   ]
  },
  {
   "cell_type": "markdown",
   "metadata": {},
   "source": [
    "Re-compute the prior probability at the location of each sample:"
   ]
  },
  {
   "cell_type": "code",
   "execution_count": null,
   "metadata": {},
   "outputs": [],
   "source": [
    "ln_p0 = beta.logpdf(ecc, a=0.867, b=3.03)"
   ]
  },
  {
   "cell_type": "markdown",
   "metadata": {},
   "source": [
    "For nulling out the probability for samples that don't exist:"
   ]
  },
  {
   "cell_type": "code",
   "execution_count": null,
   "metadata": {},
   "outputs": [],
   "source": [
    "# for nulling out the probability for non-existing samples\n",
    "mask = np.zeros_like(ecc)\n",
    "mask[np.isnan(ecc)] = -np.inf"
   ]
  },
  {
   "cell_type": "markdown",
   "metadata": {},
   "source": [
    "Class for evaluating the log-posterior of the hierarchical model:"
   ]
  },
  {
   "cell_type": "code",
   "execution_count": null,
   "metadata": {},
   "outputs": [],
   "source": [
    "def ab_to_uv(a, b):\n",
    "    U = a / (a+b)\n",
    "    V = a + b\n",
    "    return np.array([U, V])\n",
    "\n",
    "def uv_to_ab(U, V):\n",
    "    b = V * (1 - U)\n",
    "    a = V - b\n",
    "    return np.array([a, b])"
   ]
  },
  {
   "cell_type": "code",
   "execution_count": null,
   "metadata": {},
   "outputs": [],
   "source": [
    "class Model:\n",
    "    \n",
    "    def __init__(self, y_nk, K_n, ln_p0):\n",
    "        self.y = y_nk\n",
    "        self.K = K_n\n",
    "        self.ln_p0 = ln_p0\n",
    "\n",
    "    def ln_likelihood(self, **kw):\n",
    "        delta_ln_prior = beta.logpdf(self.y, a=kw['a'], b=kw['b']) - self.ln_p0\n",
    "        delta_ln_prior[~np.isfinite(delta_ln_prior)] = -np.inf\n",
    "        return logsumexp(delta_ln_prior, axis=1) - np.log(self.K)\n",
    "    \n",
    "    def ln_prior(self, **kw):\n",
    "        lp = 0.\n",
    "        \n",
    "        if not 0 <= kw['u'] <= 1:\n",
    "            return -np.inf\n",
    "        \n",
    "        if not 0.1 < kw['v'] < 10:\n",
    "            return -np.inf\n",
    "        \n",
    "        lp += -np.log(kw['v'])\n",
    "        \n",
    "        return lp\n",
    "    \n",
    "    def unpack_pars(self, pars):\n",
    "        a, b = uv_to_ab(*pars)\n",
    "        return {'u': pars[0], 'v': pars[1],\n",
    "                'a': a, 'b': b}\n",
    "    \n",
    "    def pack_pars(self, a, b):\n",
    "        return np.array(ab_to_uv(a, b))\n",
    "\n",
    "    def ln_prob(self, pars_vec):\n",
    "        pars_kw = self.unpack_pars(pars_vec)\n",
    "        \n",
    "        lp = self.ln_prior(**pars_kw)\n",
    "        if not np.isfinite(lp):\n",
    "            return -np.inf\n",
    "\n",
    "        ll_n = self.ln_likelihood(**pars_kw)\n",
    "        if not np.all(np.isfinite(ll_n)):\n",
    "            return -np.inf\n",
    "\n",
    "        return np.sum(ll_n)\n",
    "    \n",
    "    def __call__(self, p):\n",
    "        return self.ln_prob(p)"
   ]
  },
  {
   "cell_type": "code",
   "execution_count": null,
   "metadata": {},
   "outputs": [],
   "source": [
    "prior_ab = [0.867, 5.03] # initialize at Kipping values (our prior)\n",
    "\n",
    "mm = Model(ecc, K_n, ln_p0)\n",
    "p0 = ab_to_uv(*prior_ab)\n",
    "mm(p0)"
   ]
  },
  {
   "cell_type": "code",
   "execution_count": null,
   "metadata": {},
   "outputs": [],
   "source": [
    "%timeit mm(p0)"
   ]
  },
  {
   "cell_type": "code",
   "execution_count": null,
   "metadata": {},
   "outputs": [],
   "source": [
    "# res = minimize(mm, x0=p0, method='powell')\n",
    "# mm(res.x)\n",
    "# uv_to_ab(*res.x)"
   ]
  },
  {
   "cell_type": "markdown",
   "metadata": {},
   "source": [
    "---"
   ]
  },
  {
   "cell_type": "code",
   "execution_count": null,
   "metadata": {},
   "outputs": [],
   "source": [
    "import emcee"
   ]
  },
  {
   "cell_type": "code",
   "execution_count": null,
   "metadata": {},
   "outputs": [],
   "source": [
    "nwalkers = 24\n",
    "all_p0 = emcee.utils.sample_ball(p0, [1e-3, 1e-3], size=nwalkers)"
   ]
  },
  {
   "cell_type": "code",
   "execution_count": null,
   "metadata": {},
   "outputs": [],
   "source": [
    "mm = Model(ecc, K_n, ln_p0)\n",
    "sampler = emcee.EnsembleSampler(nwalkers=nwalkers, ndim=2, \n",
    "                                log_prob_fn=mm)\n",
    "_ = sampler.run_mcmc(all_p0, 128, progress=True)"
   ]
  },
  {
   "cell_type": "code",
   "execution_count": null,
   "metadata": {},
   "outputs": [],
   "source": [
    "fig, axes = plt.subplots(2, 1, figsize=(6, 8), sharex=True)\n",
    "\n",
    "for k in range(sampler.chain.shape[-1]):\n",
    "    for walker in sampler.chain[..., k]:\n",
    "        axes[k].plot(walker, marker='', \n",
    "                     drawstyle='steps-mid', alpha=0.4, color='k')        \n",
    "fig.tight_layout()"
   ]
  },
  {
   "cell_type": "code",
   "execution_count": null,
   "metadata": {},
   "outputs": [],
   "source": [
    "fig = plt.figure(figsize=(8, 6))\n",
    "\n",
    "_x = np.linspace(0, 1, 128)\n",
    "\n",
    "plt.plot(_x, beta.pdf(_x, a=prior_ab[0], b=prior_ab[1]), \n",
    "         marker='', zorder=-100, label='prior')\n",
    "    \n",
    "plt.xlabel('eccentricity, $e$')\n",
    "plt.ylabel('$p(e)$')\n",
    "plt.legend(loc='upper right', fontsize=18)\n",
    "plt.title('inferred eccentricity distribution', fontsize=18)\n",
    "plt.xlim(0, 1)\n",
    "plt.savefig('../plots/p_e_prior.png', dpi=250)"
   ]
  },
  {
   "cell_type": "code",
   "execution_count": null,
   "metadata": {},
   "outputs": [],
   "source": [
    "fig = plt.figure(figsize=(8, 6))\n",
    "\n",
    "_x = np.linspace(0, 1, 128)\n",
    "\n",
    "plt.plot(_x, beta.pdf(_x, a=prior_ab[0], b=prior_ab[1]), \n",
    "         marker='', zorder=-100, label='prior')\n",
    "\n",
    "for i in range(nwalkers):\n",
    "    a, b = uv_to_ab(*sampler.chain[i, -1])\n",
    "    \n",
    "    if i == 0:\n",
    "        plt.plot(_x, beta.pdf(_x, a=a, b=b),\n",
    "                 color='k', alpha=0.2, marker='', \n",
    "                 label='posterior samples')\n",
    "    else:\n",
    "        plt.plot(_x, beta.pdf(_x, a=a, b=b),\n",
    "                 color='k', alpha=0.2, marker='')\n",
    "    \n",
    "plt.xlabel('eccentricity, $e$')\n",
    "plt.ylabel('$p(e)$')\n",
    "plt.legend(loc='upper right', fontsize=18)\n",
    "plt.title('inferred eccentricity distribution', fontsize=18)\n",
    "plt.xlim(0, 1)\n",
    "plt.savefig('../plots/p_e.png', dpi=250)"
   ]
  },
  {
   "cell_type": "code",
   "execution_count": null,
   "metadata": {},
   "outputs": [],
   "source": []
  }
 ],
 "metadata": {
  "kernelspec": {
   "display_name": "conda-hq",
   "language": "python",
   "name": "conda-hq"
  },
  "language_info": {
   "codemirror_mode": {
    "name": "ipython",
    "version": 3
   },
   "file_extension": ".py",
   "mimetype": "text/x-python",
   "name": "python",
   "nbconvert_exporter": "python",
   "pygments_lexer": "ipython3",
   "version": "3.6.7"
  }
 },
 "nbformat": 4,
 "nbformat_minor": 2
}
